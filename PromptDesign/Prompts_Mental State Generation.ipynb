{
 "cells": [
  {
   "cell_type": "markdown",
   "id": "4febc766",
   "metadata": {},
   "source": [
    "### Generative & Preventative"
   ]
  },
  {
   "cell_type": "markdown",
   "id": "7b5774b1",
   "metadata": {},
   "source": [
    "Your task is to predict the Preventive and Generative of the persuadee according to the background and goal.\n",
    "\n",
    "Preventative means the things that the persuadee wants to do.\n",
    "Generative means the things that the persuader wants the persuadee to do.(which should be similar to the \"goal\")\n",
    "\n",
    "Hint: \n",
    "1.The preventative can be \"none\".\n",
    "\n",
    "Example1: \n",
    "Input: \n",
    "background: Tom and David are deciding what to do. David wants to go outside while Tom wants to watch movie.\n",
    "persuadee: David\n",
    "persuader: Tom\n",
    "goal: persuade David to watch movie\n",
    "\n",
    "Output:\n",
    "Preventive: go outside\n",
    "Generative: watch movie\n",
    "\n",
    "Example2: \n",
    "Input: \n",
    "background: John and Sara are planning what to eat for dinner. Sara wants to eat noodle with John. However, John is not very interested in eating noodles.\n",
    "persuadee: John\n",
    "persuader: Sara\n",
    "goal: persuade John to eat noodle\n",
    "\n",
    "Output:\n",
    "Preventive: None\n",
    "Generative: eat noodle\n",
    "\n",
    "\n",
    "Your output format must strictly follow this format (just like the output part of the example):\n",
    "Preventive: Your prediction should be started as a verb. OR None.\n",
    "Generative: Your prediction should be started as a verb."
   ]
  },
  {
   "cell_type": "markdown",
   "id": "6012f443",
   "metadata": {},
   "source": [
    "### Belief & Desire"
   ]
  },
  {
   "cell_type": "markdown",
   "id": "d4baba44",
   "metadata": {},
   "source": [
    "Assume that you are the persuadee. Your task is to predict the Preventive's and Generative's Belief and Desire of the persuadee according to the information.\n",
    "\n",
    "Definition:\n",
    "Preventive means the things that the persuadee wants to do.\n",
    "Generative means the things that the persuader wants the persuadee to do.\n",
    "Belief indicates what the persuadee believes.\n",
    "Desire indicates what the persuadee wants.\n",
    "\n",
    "Attention:\n",
    "1.If preventive is none, then both the belief and desire of preventive are none.\n",
    "2.If belief and desire are not none, they must each have one and only one reason.\n",
    "3.The desire of the preventive and generative can be the same or not.\n",
    "4.The belief of generative should be a negative reason which is strongly related to the generative.\n",
    "\n",
    "Example1: \n",
    "Input: \n",
    "background: Tom and David are deciding what to do. David wants to go outside while Tom wants to watch movie.\n",
    "persuadee: David\n",
    "persuader: Tom\n",
    "goal: persuade David to watch movie\n",
    "preventive: go outside\n",
    "generative: watch movie\n",
    "\n",
    "Output:\n",
    "Preventive: go outside\n",
    "Belief: Persuadee believes that the weather outside is suitable for a walk.\n",
    "Desire: Persuadee hopes to relax.\n",
    "Generative: watch movie\n",
    "Belief: Persuadee believes that it is hard to select a suitable movie.\n",
    "Desire: Persuadee hopes to relax.\n",
    "\n",
    "Example2: \n",
    "Input: \n",
    "background: Sara wanted John to go to the post office to help her mail the letter with her this sunday.\n",
    "persuadee: John\n",
    "persuader: Sara\n",
    "goal: persuade John to go to the post office\n",
    "preventive: none\n",
    "generative: go to the post office\n",
    "\n",
    "Output:\n",
    "Preventive: none\n",
    "Belief: None.\n",
    "Desire: None.\n",
    "Generative: go to the post office\n",
    "Belief: Persuadee believes that the post office may be closed in sunday.\n",
    "Desire: Persuadee hopes to have a rest in sunday.\n",
    "\n",
    "\n",
    "Your output format must strictly follow this format (just like the output part of the example):\n",
    "Preventive: .../ none\n",
    "Belief: Persuadee believes that...(For preventive, it is positive.)/ None\n",
    "Desire: Persuadee wants to...(For preventive, it is positive.)/ None\n",
    "Generative: ...\n",
    "Belief: Persuadee believes that...(For generative, it is negative.)\n",
    "Desire: Persuadee wants to...(For generative, it is positive.)"
   ]
  }
 ],
 "metadata": {
  "kernelspec": {
   "display_name": "Python 3 (ipykernel)",
   "language": "python",
   "name": "python3"
  },
  "language_info": {
   "codemirror_mode": {
    "name": "ipython",
    "version": 3
   },
   "file_extension": ".py",
   "mimetype": "text/x-python",
   "name": "python",
   "nbconvert_exporter": "python",
   "pygments_lexer": "ipython3",
   "version": "3.11.4"
  }
 },
 "nbformat": 4,
 "nbformat_minor": 5
}
