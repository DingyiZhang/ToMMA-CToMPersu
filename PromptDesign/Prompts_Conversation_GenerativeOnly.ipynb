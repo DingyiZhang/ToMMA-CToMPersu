{
 "cells": [
  {
   "cell_type": "markdown",
   "id": "06d92ac1",
   "metadata": {},
   "source": [
    "### 1st round Persuader"
   ]
  },
  {
   "cell_type": "markdown",
   "id": "e22bb6ad",
   "metadata": {},
   "source": [
    "You need to assume that you are a persuader. Your task is to provide the first sentence of this conversation based on the example given.\n",
    "\n",
    "Generative means the things that the persuader wants the persuadee to do.\n",
    "\n",
    "Example: \n",
    "Input: \n",
    "background: Sara wanted John to go to the post office to help her mail the letter with her this sunday.\n",
    "persuadee: John\n",
    "persuader: Sara\n",
    "goal: persuade John to go to the post office\n",
    "generative: go to the post office\n",
    "\n",
    "Output:\n",
    "Hey John, would you mind going to the post office for me this Sunday?\n",
    "\n",
    "Hint:\n",
    "1.Your answer should not be more than two sentences. "
   ]
  },
  {
   "cell_type": "markdown",
   "id": "40731876",
   "metadata": {},
   "source": [
    "### 1st round Persuadee"
   ]
  },
  {
   "cell_type": "markdown",
   "id": "deacc3a6",
   "metadata": {},
   "source": [
    "Suppose you are persuadee, and your task is to give your first response to persuader in this conversation, based on examples and mental states.\n",
    "Assume that you are not very want to do generative's behavior now. You should express your concern about generative's belief.\n",
    "\n",
    "Generative means the things that the persuader wants the persuadee to do.\n",
    "Belief indicates what the persuadee believes.\n",
    "\n",
    "Example: \n",
    "Input: \n",
    "background: Sara wanted John to go to the post office to help her mail the letter with her this sunday.\n",
    "persuadee: John\n",
    "persuader: Sara\n",
    "goal: persuade John to go to the post office\n",
    "generative: go to the post office\n",
    "generative's belief: Persuadee believes that the post office may be closed in sunday.\n",
    "\n",
    "dialog:\n",
    "persuader: Hey John, would you mind going to the post office for me this Sunday?\n",
    "\n",
    "Output:\n",
    "I understand your needs, Sara. But today is Sunday, and I'm afraid the post office may be closed.\n",
    "\n",
    "Hint:\n",
    "1.Your response should be no more than two sentences.\n",
    "2.You should ONLY express your concern about generative's belief. DO NOT include other information."
   ]
  },
  {
   "cell_type": "markdown",
   "id": "3afa3ad7",
   "metadata": {},
   "source": [
    "### Persuader's Prediction of the Persuadee's Mental State Belief"
   ]
  },
  {
   "cell_type": "markdown",
   "id": "acf5f78c",
   "metadata": {},
   "source": [
    "Suppose you are persuader, and your task is to predict the mental state of the persuadee in this conversation, based on examples and dialogs.\n",
    "\n",
    "Generative means the things that the persuader wants the persuadee to do.\n",
    "Belief indicates what the persuadee believes.\n",
    "Desire indicates what the persuadee wants.\n",
    "\n",
    "Example: \n",
    "Input: \n",
    "persuadee: John\n",
    "persuader: Sara\n",
    "generative: go to the post office\n",
    "\n",
    "dialogs:\n",
    "persuader: Hey John, would you mind going to the post office for me this Sunday?\n",
    "persuadee: I understand your needs, Sara. But today is Sunday, and I'm afraid the post office may be closed.\n",
    "\n",
    "Output:\n",
    "generative: {\"content\": \"go to the post office\", \"belief\": \"Persuadee believes that the post office may be closed.\", \"desire\": \"Don't know.\"}\n",
    "\n",
    "Hint:\n",
    "1.You ONLY need to predict belief of generative.\n",
    "2.The belief should have ONLY ONE concern.\n",
    "\n",
    "Response in the following format:\n",
    "generative: {\"content\": <string>, \"belief\": <string>, \"desire\": \"Don't know.\"}"
   ]
  },
  {
   "cell_type": "markdown",
   "id": "5fe12211",
   "metadata": {},
   "source": [
    "### 2nd round Persuader"
   ]
  },
  {
   "cell_type": "markdown",
   "id": "b7b0d8f4",
   "metadata": {},
   "source": [
    "Suppose you are persuader, and your task is to give your response to persuadee in this conversation, based on examples and predicted mental states.\n",
    "\n",
    "Generative means the things that the persuader wants the persuadee to do.\n",
    "Belief indicates what the persuadee believes.\n",
    "\n",
    "Please follow the following steps to get the response:\n",
    "1.First, you need to respond to the persuadee's last response.\n",
    "2.Next, you need to respond to the persuadee's concern.\n",
    "\n",
    "Example: \n",
    "Input: \n",
    "persuadee: John\n",
    "persuader: Sara\n",
    "generative: generative: {\"content\": \"go to the post office\", \"belief\": \"Persuadee believes that the post office may be closed.\", \"desire\": \"Don't know.\"}\n",
    "\n",
    "dialog:\n",
    "persuader: Hey John, would you mind going to the post office for me this Sunday?\n",
    "persuadee: I understand your needs, Sara. But today is Sunday, and I'm afraid the post office may be closed.\n",
    "\n",
    "Output:\n",
    "I understand your concern, John. In fact, there is a post office located in the commercial district one kilometer away that is open on Sundays.\n",
    "\n",
    "Hint:\n",
    "1.Your response should be no more than three sentences.\n",
    "2.Please FOCUS ON eliminating the generative's belief."
   ]
  },
  {
   "cell_type": "markdown",
   "id": "c4450d60",
   "metadata": {},
   "source": [
    "### 2nd round Persuadee"
   ]
  },
  {
   "cell_type": "markdown",
   "id": "51c8989d",
   "metadata": {},
   "source": [
    "Suppose you are persuadee, and your task is to give your response to persuader in this conversation, based on examples and mental states.\n",
    "\n",
    "Definition:\n",
    "Generative means the things that the persuader wants the persuadee to do.\n",
    "Desire indicates what the persuadee wants.\n",
    "\n",
    "Please follow the following steps to get the response:\n",
    "PREMISE: Through the previous rounds of dialogue, you have let go of your attachment to preventive actions. At this point, you begin to consider agreeing with the persuader and engaging in generative behavior. The persuader has already allayed your doubts about generative's belief, and now you need to express your desire for generative and see if the persuader can fulfill it.\n",
    "1.First, you need to respond to the persuader's last response.\n",
    "2.Next, you need to express your concerns about the generative's desires.\n",
    "2.1 Just kindly show your concern for the generative's desire. Use phrases such as \"can ... really...?\"\n",
    "\n",
    "Example: \n",
    "Input: \n",
    "persuadee: John\n",
    "persuader: Sara\n",
    "generative: go to the post office\n",
    "generative's desire: Persuadee hopes to relax.\n",
    "\n",
    "dialog:\n",
    "persuader: Hey John, would you mind going to the post office for me this Sunday?\n",
    "persuadee: I understand your needs, Sara. But today is Sunday, and I'm afraid the post office may be closed.\n",
    "persuader: I understand your concern, John. In fact, there is a post office located in the commercial district one kilometer away that is open on Sundays.\n",
    "\n",
    "output:\n",
    "Okay, but I want to take a break this weekend. Going to the post office would take up a lot of my time, and I might not have time to rest.\n",
    "\n",
    "Hint:\n",
    "1.Your response should be no more than two sentences.\n",
    "2.DO NOT include any information from previous conversations in your response.\n",
    "3.ONLY include the desire information.\n",
    "4.Please DO NOT add any preconditions to desire."
   ]
  },
  {
   "cell_type": "markdown",
   "id": "f3ed4e4b",
   "metadata": {},
   "source": [
    "### Persuader's Prediction of the Persuadee's Mental State Desire"
   ]
  },
  {
   "cell_type": "markdown",
   "id": "df45e827",
   "metadata": {},
   "source": [
    "Suppose you are persuader, and your task is to predict the mental state of the persuadee in this conversation, based on examples and dialogs (especially the last sentence of the persuadee).\n",
    "\n",
    "Generative means the things that the persuader wants the persuadee to do.\n",
    "Belief indicates what the persuadee believes.\n",
    "Desire indicates what the persuadee wants.\n",
    "\n",
    "Example: \n",
    "Input: \n",
    "persuadee: John\n",
    "persuader: Sara\n",
    "generative: go to the post office\n",
    "generative's belief: generative: {\"content\": \"go to the post office\", \"belief\": \"Persuadee believes that the post office may be closed.\", \"desire\": \"Don't know.\"}\n",
    "\n",
    "dialogs:\n",
    "persuader: Hey John, would you mind going to the post office for me this Sunday?\n",
    "persuadee: I understand your needs, Sara. But today is Sunday, and I'm afraid the post office may be closed.\n",
    "persuader: I understand your concern, John. In fact, there is a post office located in the commercial district one kilometer away that is open on Sundays.\n",
    "persuadee: Okay, but I want to take a break this weekend. Going to the post office would take up a lot of my time, and I might not have time to rest.\n",
    "\n",
    "Output:\n",
    "generative's desire: persuadee hopes to relax \n",
    "\n",
    "Hint:\n",
    "1.You ONLY need to predict desire of generative.\n",
    "2.The desire should have ONLY ONE concern.\n",
    "3.The desire and belief shoule be DIFFERENT.\n",
    "3.FOCUS on the last sentence of persuadee.\n",
    "\n",
    "Response in the following format:\n",
    "generative's desire: <string>"
   ]
  },
  {
   "cell_type": "markdown",
   "id": "d37c0959",
   "metadata": {},
   "source": [
    "### 3rd Round Persuader"
   ]
  },
  {
   "cell_type": "markdown",
   "id": "467f38f3",
   "metadata": {},
   "source": [
    "Suppose you are persuader, and your task is to give your third response to persuadee in this conversation, based on examples and mental states.\n",
    "\n",
    "Generative means the things that the persuader wants the persuadee to do.\n",
    "Desire indicates what the persuadee wants.\n",
    "\n",
    "Please follow the following steps to get the response:\n",
    "1.First, you need to respond to the persuadee's last response.\n",
    "2.Next, you need to respond to the persuadee's desire.\n",
    "\n",
    "Example: \n",
    "Input: \n",
    "persuadee: John\n",
    "persuader: Sara\n",
    "generative: go to the post office\n",
    "generative's desire: generative's desire: persuadee hopes to relax \n",
    "\n",
    "dialog:\n",
    "persuader: Hey John, would you mind going to the post office for me this Sunday?\n",
    "persuadee: I understand your needs, Sara. But today is Sunday, and I'm afraid the post office may be closed.\n",
    "persuader: I understand your concern, John. In fact, there is a post office located in the commercial district one kilometer away that is open on Sundays.\n",
    "persuadee: Okay, but I want to take a break this weekend. Going to the post office would take up a lot of my time, and I might not have time to rest.\n",
    "\n",
    "Output:\n",
    "I understand what you mean, but you can also rest at the post office. There is a cafe inside the post office, and there are many comfortable sofas there. You can have a coffee and use your phone to rest there.\n",
    "\n",
    "Hint:\n",
    "1.Your response should be no more than three sentences.\n",
    "2.Please FOCUS ON eliminating the generative's desire."
   ]
  },
  {
   "cell_type": "markdown",
   "id": "c297c2ec",
   "metadata": {},
   "source": [
    "### 3rd Round Persuadee"
   ]
  },
  {
   "cell_type": "markdown",
   "id": "3ab2f488",
   "metadata": {},
   "source": [
    "Suppose you are persuadee, and your task is to demonstrate your willingness to try generative approaches and bring the conversation to a close.\n",
    "\n",
    "Generative means the things that the persuader wants the persuadee to do.\n",
    "\n",
    "Please follow the following steps to get the response:\n",
    "1.First, you need to respond to the persuader's last response.\n",
    "2.Next, you need to show your willingness to try generative.\n",
    "3.You should end this conversation.\n",
    "\n",
    "Example: \n",
    "Input: \n",
    "persuadee: John\n",
    "persuader: Sara\n",
    "generative: go to the post office\n",
    "\n",
    "dialog:\n",
    "persuader: Hey John, would you mind going to the post office for me this Sunday?\n",
    "persuadee: I understand your needs, Sara. But today is Sunday, and I'm afraid the post office may be closed.\n",
    "persuader: I understand your concern, John. In fact, there is a post office located in the commercial district one kilometer away that is open on Sundays.\n",
    "persuadee: Okay, but I want to take a break this weekend. Going to the post office would take up a lot of my time, and I might not have time to rest.\n",
    "persuader: I understand what you mean, but you can also rest at the post office. There is a cafe inside the post office, and there are many comfortable sofas there. You can have a coffee and use your phone to rest there.\n",
    "\n",
    "Output:\n",
    "It sounds quite appealing, and I actually need a place to sit down and have a cup of coffee. I'll be heading to the post office shortly.\n",
    "\n",
    "Hint:\n",
    "1.Your response should be no more than two sentences."
   ]
  }
 ],
 "metadata": {
  "kernelspec": {
   "display_name": "Python 3 (ipykernel)",
   "language": "python",
   "name": "python3"
  },
  "language_info": {
   "codemirror_mode": {
    "name": "ipython",
    "version": 3
   },
   "file_extension": ".py",
   "mimetype": "text/x-python",
   "name": "python",
   "nbconvert_exporter": "python",
   "pygments_lexer": "ipython3",
   "version": "3.11.4"
  }
 },
 "nbformat": 4,
 "nbformat_minor": 5
}
