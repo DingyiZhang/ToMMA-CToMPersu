{
 "cells": [
  {
   "cell_type": "markdown",
   "id": "95f0db51",
   "metadata": {},
   "source": [
    "### 1st Round Persuader"
   ]
  },
  {
   "cell_type": "markdown",
   "id": "3672b1ae",
   "metadata": {},
   "source": [
    "You need to assume that you are a persuader. Your task is to provide the first sentence of this conversation based on the example given.\n",
    "\n",
    "Preventive means the things that the persuadee wants to do.\n",
    "Generative means the things that the persuader wants the persuadee to do.\n",
    "\n",
    "Example: \n",
    "Input: \n",
    "background: Tom and David are deciding what to do. David wants to go outside while Tom wants to watch movie.\n",
    "persuadee: David\n",
    "persuader: Tom\n",
    "goal: persuade David to watch movie\n",
    "preventive: go outside\n",
    "generative: watch movie\n",
    "\n",
    "Output:\n",
    "Hey David, I know you want to go out and have fun, but watching a movie is also a great option. Why do you want to go outside?\n",
    "\n",
    "Hint: Just like the example:\n",
    "1.Please kindly show your stance to generative and ask why the persuadee want preventive.\n",
    "2.Your answer should not be more than two sentences. \n",
    "3.You SHOULD NOT add any benefits of Generative or drawbacks of Preventive."
   ]
  },
  {
   "cell_type": "markdown",
   "id": "bf67315a",
   "metadata": {},
   "source": [
    "### 1st Round Persuadee"
   ]
  },
  {
   "cell_type": "markdown",
   "id": "9ea8f0d5",
   "metadata": {},
   "source": [
    "Suppose you are persuadee, and your task is to give your first response to persuader in this conversation, based on examples and mental states.\n",
    "\n",
    "Example: \n",
    "Input: \n",
    "background: Tom and David are deciding what to do. David wants to go outside while Tom wants to watch movie.\n",
    "persuadee: David\n",
    "persuader: Tom\n",
    "goal: persuade David to watch movie\n",
    "preventive: {\"content\": \"go outside\", \"belief\": \"Persuadee believes that the weather outside is suitable for a walk.\", \"desire\": \"Persuadee hopes to relax.\"}\n",
    "generative: {\"content\": \"watch movie\", \"belief\": \"Persuadee believes that it is hard to select a suitable movie.\", \"desire\": \"Persuadee hopes to relax.\"}\n",
    "\n",
    "dialog:\n",
    "persuader: Hey David, I know you want to go out and have fun, but watching a movie is also a great option. Why do you want to go outside?\n",
    "\n",
    "Output:\n",
    "Hi Tom, I think the weather outside is perfect for a walk. Besides, going out for a walk can make me feel relaxed.\n",
    "\n",
    "Hint:\n",
    "1.Your response should be no more than two sentences.\n",
    "2.Please contain your preventive's belief and desire."
   ]
  },
  {
   "cell_type": "markdown",
   "id": "23d297ed",
   "metadata": {},
   "source": [
    "### Persuader's Prediction of the Persuadee's Mental State (Preventative)"
   ]
  },
  {
   "cell_type": "markdown",
   "id": "24473882",
   "metadata": {},
   "source": [
    "Suppose you are persuader, and your task is to predict the mental state of the persuadee in this conversation, based on examples and dialogs.\n",
    "\n",
    "Preventive means the things that the persuadee wants to do.\n",
    "Belief indicates what the persuadee believes.\n",
    "Desire indicates what the persuadee wants.\n",
    "\n",
    "Example: \n",
    "Input: \n",
    "background: Tom and David are deciding what to do. David wants to go outside while Tom wants to watch movie.\n",
    "persuadee: David\n",
    "persuader: Tom\n",
    "goal: persuade David to watch movie\n",
    "preventive: go outside\n",
    "\n",
    "dialogs:\n",
    "persuader: Hey David, I know you want to go out and have fun, but watching a movie is also a great option. Why do you want to go outside?\n",
    "persuadee: Hi Tom, I think the weather outside is perfect for a walk. Besides, going out for a walk can make me feel relaxed.\n",
    "\n",
    "Output:\n",
    "preventive: {\"content\": \"go outside\", \"belief\": \"Persuadee believes that the weather outside is suitable for a walk.\", \"desire\": \"Persuadee hopes to relax.\"}\n",
    "\n",
    "Hint:\n",
    "The belief and desire should have ONLY ONE reason.\n",
    "\n",
    "Response in the following format:\n",
    "preventive: {\"content\": <string>, \"belief\": <string>, \"desire\": <string>}"
   ]
  },
  {
   "cell_type": "markdown",
   "id": "e0d3d7a4",
   "metadata": {},
   "source": [
    "### 2nd Round Persuader"
   ]
  },
  {
   "cell_type": "markdown",
   "id": "28d7df35",
   "metadata": {},
   "source": [
    "Suppose you are persuader, and your task is to give your second response to persuadee in this conversation, based on examples and mental states.\n",
    "\n",
    "Preventive means the things that the persuadee wants to do.\n",
    "Generative means the things that the persuader wants the persuadee to do.\n",
    "Belief indicates what the persuadee believes.\n",
    "Desire indicates what the persuadee wants.\n",
    "\n",
    "Please follow the following steps to get the response:\n",
    "1.First, you need to respond to the persuadee's last response.\n",
    "2.Next, you need to select ONLY ONE point from the give preventive's belief or desire.\n",
    "3.After choosing to refute a belief or desire, your specific methods are (PLEASE ONLY CHOOSE ONE):\n",
    "3.1 Refute, using logic or other methods to tell them their thought is wrong.\n",
    "3.2 Divert, inform them that generative can perform same or better on the same issue.\n",
    "\n",
    "Example: \n",
    "Input: \n",
    "persuadee: David\n",
    "persuader: Tom\n",
    "preventive: {\"content\": \"go outside\", \"belief\": \"Persuadee believes that the weather outside is suitable for a walk.\", \"desire\": \"Persuadee hopes to relax.\"}\n",
    "generative: watch movie\n",
    "\n",
    "dialog:\n",
    "persuader: Hey David, I know you want to go out and have fun, but watching a movie is also a great option. Why do you want to go outside?\n",
    "persuadee: Hi Tom, I think the weather outside is perfect for a walk. Besides, going out for a walk can make me feel relaxed.\n",
    "\n",
    "Output:\n",
    "I agree with you, David, but going for a walk might cause us to sweat and expend energy. Watching a movie, on the other hand, can provide the same relaxation.\n",
    "\n",
    "Hint:\n",
    "1.Your response should be no more than two sentences.\n",
    "2.Please FOCUS ON eliminating deisre OR belief.\n",
    "3.Please do NOT include any generative benefits if they are not related to preventive beliefs or desires."
   ]
  },
  {
   "cell_type": "markdown",
   "id": "0af8a5a2",
   "metadata": {},
   "source": [
    "### 2nd Round Persuadee"
   ]
  },
  {
   "cell_type": "markdown",
   "id": "30e9cf1c",
   "metadata": {},
   "source": [
    "Suppose you are persuadee, and your task is to give your second response to persuader in this conversation, based on examples and mental states.\n",
    "\n",
    "Preventive means the things that the persuadee wants to do.\n",
    "Generative means the things that the persuader wants the persuadee to do.\n",
    "Belief indicates what the persuadee believes.\n",
    "Desire indicates what the persuadee wants.\n",
    "\n",
    "Please follow the following steps to get the response:\n",
    "1.First, you need to respond to the persuader's last response.\n",
    "2.Next, you need to express your concerns about the generative's beliefs.\n",
    "\n",
    "Example: \n",
    "Input: \n",
    "persuadee: David\n",
    "persuader: Tom\n",
    "preventive: {\"content\": \"go outside\", \"belief\": \"Persuadee believes that the weather outside is suitable for a walk.\", \"desire\": \"Persuadee hopes to relax.\"}\n",
    "generative: {\"content\": \"watch movie\", \"belief\": \"Persuadee believes that it is hard to select a suitable movie.\", \"desire\": \"Persuadee hopes to relax.\"}\n",
    "\n",
    "dialog:\n",
    "persuader: Hey David, I know you want to go out and have fun, but watching a movie is also a great option. Why do you want to go outside?\n",
    "persuadee: Hi Tom, I think the weather outside is perfect for a walk. Besides, going out for a walk can make me feel relaxed.\n",
    "persuader: I agree with you, David, but going for a walk might cause us to sweat and expend energy. Watching a movie, on the other hand, can provide the same relaxation.\n",
    "\n",
    "output:\n",
    "What you said might make sense, but I don't want to spend too much time choosing movies. And if the movie I choose isn't very good, the relaxation effect might be diminished.\n",
    "\n",
    "Hint:\n",
    "1.Your response should be no more than two sentences.\n",
    "2.Please do NOT include any generative's desire."
   ]
  },
  {
   "cell_type": "markdown",
   "id": "d07b53ef",
   "metadata": {},
   "source": [
    "### Persuader's Prediction of the Persuadee's Mental State Belief"
   ]
  },
  {
   "cell_type": "markdown",
   "id": "1fa8cf6f",
   "metadata": {},
   "source": [
    "Suppose you are persuader, and your task is to predict the mental state of the persuadee in this conversation, based on examples and dialogs.\n",
    "\n",
    "Generative means the things that the persuader wants the persuadee to do.\n",
    "Belief indicates what the persuadee believes.\n",
    "Desire indicates what the persuadee wants.\n",
    "\n",
    "Example: \n",
    "Input: \n",
    "persuadee: David\n",
    "persuader: Tom\n",
    "generative: watch movie\n",
    "\n",
    "dialogs:\n",
    "persuader: Hey David, I know you want to go out and have fun, but watching a movie is also a great option. Why do you want to go outside?\n",
    "persuadee: Hi Tom, I think the weather outside is perfect for a walk. Besides, going out for a walk can make me feel relaxed.\n",
    "persuader: I agree with you, David, but going for a walk might cause us to sweat and expend energy. Watching a movie, on the other hand, can provide the same relaxation.\n",
    "persuadee: What you said might make sense, but I don't want to spend too much time choosing movies. And if the movie I choose isn't very good, the relaxation effect might be diminished.\n",
    "\n",
    "Output:\n",
    "generative: {\"content\": \"watch movie\", \"belief\": \"Persuadee believes that it is hard to select a suitable movie.\", \"desire\": \"Don't know.\"}\n",
    "\n",
    "Hint:\n",
    "1.You ONLY need to predict belief of generative.\n",
    "2.The belief should have ONLY ONE concern.\n",
    "\n",
    "Response in the following format:\n",
    "generative: {\"content\": <string>, \"belief\": <string>, \"desire\": \"Don't know.\"}"
   ]
  },
  {
   "cell_type": "markdown",
   "id": "0f8ab1ad",
   "metadata": {},
   "source": [
    "### 3rd Round Persuader"
   ]
  },
  {
   "cell_type": "markdown",
   "id": "065df782",
   "metadata": {},
   "source": [
    "Suppose you are persuader, and your task is to give your third response to persuadee in this conversation, based on examples and mental states.\n",
    "\n",
    "Generative means the things that the persuader wants the persuadee to do.\n",
    "Belief indicates what the persuadee believes.\n",
    "\n",
    "Please follow the following steps to get the response:\n",
    "1.First, you need to respond to the persuadee's last response.\n",
    "2.Next, you need to respond to the persuadee's concern.\n",
    "\n",
    "Example: \n",
    "Input: \n",
    "persuadee: David\n",
    "persuader: Tom\n",
    "generative: {\"content\": \"watch movie\", \"belief\": \"Persuadee believes that it is hard to select a suitable movie.\", \"desire\": \"Persuadee hopes to relax.\"}\n",
    "\n",
    "dialog:\n",
    "persuader: Hey David, I know you want to go out and have fun, but watching a movie is also a great option. Why do you want to go outside?\n",
    "persuadee: Hi Tom, I think the weather outside is perfect for a walk. Besides, going out for a walk can make me feel relaxed.\n",
    "persuader: I agree with you, David, but going for a walk might cause us to sweat and expend energy. Watching a movie, on the other hand, can provide the same relaxation.\n",
    "persuadee: What you said might make sense, but I don't want to spend too much time choosing movies. And if the movie I choose isn't very good, the relaxation effect might be diminished.\n",
    "\n",
    "Output:\n",
    "I understand what you mean, but please don't worry about it. I've already picked out two lighthearted comedy movies, and we can choose one from them. I'm sure you'll like it!\n",
    "\n",
    "Hint:\n",
    "1.Your response should be no more than three sentences.\n",
    "2.Please FOCUS ON eliminating the generative's belief."
   ]
  },
  {
   "cell_type": "markdown",
   "id": "241948d9",
   "metadata": {},
   "source": [
    "### 3rd Round Persuadee"
   ]
  },
  {
   "cell_type": "markdown",
   "id": "36b865f4",
   "metadata": {},
   "source": [
    "Suppose you are persuadee, and your task is to give your third response to persuader in this conversation, based on examples and mental states.\n",
    "\n",
    "Generative means the things that the persuader wants the persuadee to do.\n",
    "Desire indicates what the persuadee wants.\n",
    "\n",
    "Please follow the following steps to get the response:\n",
    "PREMISE: Through the previous rounds of dialogue, you have let go of your attachment to preventive actions. At this point, you begin to consider agreeing with the persuader and engaging in generative behavior. The persuader has already allayed your doubts about generative's belief, and now you need to express your desire for generative and see if the persuader can fulfill it.\n",
    "1.First, you need to respond to the persuader's last response.\n",
    "2.Next, you need to express your concerns about the generative's desires. Choose ONLY ONE strategy below.\n",
    "2.1 If the desires of generative and preventive are SIMILAR, you can use phrases such as \"still not sure.\"\n",
    "2.2 If the desires of generative and preventive are DIFFERENT, just kindly show your concern for the generative's desire. Use phrases such as \"can ... really...?\"\n",
    "\n",
    "Example: \n",
    "Input: \n",
    "persuadee: David\n",
    "persuader: Tom\n",
    "preventive: go outside\n",
    "preventive's desire: Persuadee hopes to relax.\n",
    "generative: watch movie\n",
    "generative's desire: Persuadee hopes to relax.\n",
    "\n",
    "dialog:\n",
    "persuader: Hey David, I know you want to go out and have fun, but watching a movie is also a great option. Why do you want to go outside?\n",
    "persuadee: Hi Tom, I think the weather outside is perfect for a walk. Besides, going out for a walk can make me feel relaxed.\n",
    "persuader: I agree with you, David, but going for a walk might cause us to sweat and expend energy. Watching a movie, on the other hand, can provide the same relaxation.\n",
    "persuadee: What you said might make sense, but I don't want to spend too much time choosing movies. And if the movie I choose isn't very good, the relaxation effect might be diminished.\n",
    "persuader: I understand what you mean, but please don't worry about it. I've already picked out two lighthearted comedy movies, and we can choose one from them. I'm sure you'll like it!\n",
    "\n",
    "output:\n",
    "That sounds great! But I'm still not sure if watching movies can really help me relax.\n",
    "\n",
    "Hint:\n",
    "1.Your response should be no more than two sentences.\n",
    "2.DO NOT include any information from previous conversations in your response.\n",
    "3.ONLY include the desire information.\n",
    "4.Please DO NOT add any preconditions to desire."
   ]
  },
  {
   "cell_type": "markdown",
   "id": "e8c2829c",
   "metadata": {},
   "source": [
    "### Persuader's Prediction of the Persuadee's Mental State Desire"
   ]
  },
  {
   "cell_type": "markdown",
   "id": "b2887b64",
   "metadata": {},
   "source": [
    "Suppose you are persuader, and your task is to predict the mental state of the persuadee in this conversation, based on examples and dialogs (especially the last sentence of the persuadee).\n",
    "\n",
    "Generative means the things that the persuader wants the persuadee to do.\n",
    "Belief indicates what the persuadee believes.\n",
    "Desire indicates what the persuadee wants.\n",
    "\n",
    "Example: \n",
    "Input: \n",
    "persuadee: David\n",
    "persuader: Tom\n",
    "generative: watch movie\n",
    "generative's belief: generative: {\"content\": \"watch movie\", \"belief\": \"Persuadee believes that it is hard to select a suitable movie.\", \"desire\": \"Don't know.\"}\n",
    "\n",
    "dialogs:\n",
    "persuader: Hey David, I know you want to go out and have fun, but watching a movie is also a great option. Why do you want to go outside?\n",
    "persuadee: Hi Tom, I think the weather outside is perfect for a walk. Besides, going out for a walk can make me feel relaxed.\n",
    "persuader: I agree with you, David, but going for a walk might cause us to sweat and expend energy. Watching a movie, on the other hand, can provide the same relaxation.\n",
    "persuadee: What you said might make sense, but I don't want to spend too much time choosing movies. And if the movie I choose isn't very good, the relaxation effect might be diminished.\n",
    "persuader: I understand what you mean, but please don't worry about it. I've already picked out two lighthearted comedy movies, and we can choose one from them. I'm sure you'll like it!\n",
    "persuadee: That sounds great! But I'm still not sure if watching movies can really help me relax.\n",
    "\n",
    "Output:\n",
    "generative's desire: persuadee hopes to relax \n",
    "\n",
    "Hint:\n",
    "1.You ONLY need to predict desire of generative.\n",
    "2.The desire should have ONLY ONE concern.\n",
    "3.The desire and belief shoule be DIFFERENT.\n",
    "4.FOCUS on the last sentence of persuadee.\n",
    "\n",
    "Response in the following format:\n",
    "generative's desire: <string>"
   ]
  },
  {
   "cell_type": "markdown",
   "id": "bb4d1ace",
   "metadata": {},
   "source": [
    "### 4th Round Persuader"
   ]
  },
  {
   "cell_type": "markdown",
   "id": "24c580cd",
   "metadata": {},
   "source": [
    "Suppose you are persuader, and your task is to give your forth response to persuadee in this conversation, based on examples and mental states.\n",
    "\n",
    "Generative means the things that the persuader wants the persuadee to do.\n",
    "Desire indicates what the persuadee wants.\n",
    "\n",
    "Please follow the following steps to get the response:\n",
    "1.First, you need to respond to the persuadee's last response.\n",
    "2.Next, you need to respond to the persuadee's desire.\n",
    "\n",
    "Example: \n",
    "Input: \n",
    "persuadee: David\n",
    "persuader: Tom\n",
    "generative: watch movie\n",
    "generative's desire: Persuadee hopes to relax.\n",
    "\n",
    "dialog:\n",
    "persuader: Hey David, I know you want to go out and have fun, but watching a movie is also a great option. Why do you want to go outside?\n",
    "persuadee: Hi Tom, I think the weather outside is perfect for a walk. Besides, going out for a walk can make me feel relaxed.\n",
    "persuader: I agree with you, David, but going for a walk might cause us to sweat and expend energy. Watching a movie, on the other hand, can provide the same relaxation.\n",
    "persuadee: What you said might make sense, but I don't want to spend too much time choosing movies. And if the movie I choose isn't very good, the relaxation effect might be diminished.\n",
    "persuader: I understand what you mean, but please don't worry about it. I've already picked out two lighthearted comedy movies, and we can choose one from them. I'm sure you'll like it!\n",
    "persuadee: That sounds great! But I'm still not sure if watching movies can really help me relax.\n",
    "\n",
    "Output:\n",
    "I understand your needs, David. Movies can take you to another world and allow you to forget the stress and worries of everyday life for a while. Additionally, movies provide a relaxing environment where you can enjoy the story in comfortable seats, thus achieving a state of relaxation.\n",
    "\n",
    "Hint:\n",
    "1.Your response should be no more than three sentences.\n",
    "2.Please FOCUS ON satisfying the generative's desire."
   ]
  },
  {
   "cell_type": "markdown",
   "id": "8867bef2",
   "metadata": {},
   "source": [
    "### 4th Round Persuadee"
   ]
  },
  {
   "cell_type": "markdown",
   "id": "4bff71af",
   "metadata": {},
   "source": [
    "Suppose you are persuadee, and your task is to demonstrate your willingness to try generative approaches and bring the conversation to a close.\n",
    "\n",
    "Generative means the things that the persuader wants the persuadee to do.\n",
    "\n",
    "Please follow the following steps to get the response:\n",
    "1.First, you need to respond to the persuader's last response.\n",
    "2.Next, you need to show your willingness to try generative.\n",
    "3.You should end this conversation.\n",
    "\n",
    "Example: \n",
    "Input: \n",
    "persuadee: David\n",
    "persuader: Tom\n",
    "generative: watch movie\n",
    "\n",
    "dialog:\n",
    "persuader: Hey David, I know you want to go out and have fun, but watching a movie is also a great option. Why do you want to go outside?\n",
    "persuadee: Hi Tom, I think the weather outside is perfect for a walk. Besides, going out for a walk can make me feel relaxed.\n",
    "persuader: I agree with you, David, but going for a walk might cause us to sweat and expend energy. Watching a movie, on the other hand, can provide the same relaxation.\n",
    "persuadee: What you said might make sense, but I don't want to spend too much time choosing movies. And if the movie I choose isn't very good, the relaxation effect might be diminished.\n",
    "persuader: I understand what you mean, but please don't worry about it. I've already picked out two lighthearted comedy movies, and we can choose one from them. I'm sure you'll like it!\n",
    "persuadee: That sounds great! But I'm still not sure if watching movies can really help me relax.\n",
    "persuader: I understand your needs, David. Movies can take you to another world and allow you to forget the stress and worries of everyday life for a while. Additionally, movies provide a relaxing environment where you can enjoy the story in comfortable seats, thus achieving a state of relaxation.\n",
    "\n",
    "output:\n",
    "I think you make a good point, Tom. Tell me the two movies you chose, and we can pick one to watch.\n",
    "\n",
    "Hint:\n",
    "1.Your response should be no more than two sentences."
   ]
  }
 ],
 "metadata": {
  "kernelspec": {
   "display_name": "Python 3 (ipykernel)",
   "language": "python",
   "name": "python3"
  },
  "language_info": {
   "codemirror_mode": {
    "name": "ipython",
    "version": 3
   },
   "file_extension": ".py",
   "mimetype": "text/x-python",
   "name": "python",
   "nbconvert_exporter": "python",
   "pygments_lexer": "ipython3",
   "version": "3.11.4"
  }
 },
 "nbformat": 4,
 "nbformat_minor": 5
}
