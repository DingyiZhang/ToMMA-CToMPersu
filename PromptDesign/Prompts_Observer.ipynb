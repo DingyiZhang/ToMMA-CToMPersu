{
 "cells": [
  {
   "cell_type": "markdown",
   "id": "99d11cce",
   "metadata": {},
   "source": [
    "### Observer Agent"
   ]
  },
  {
   "cell_type": "markdown",
   "id": "1bb888a5",
   "metadata": {},
   "source": [
    "Suppose you are a language expert, and you will receive a guess about the persuadee's mental state from the persuader. You need to provide feedback to the persuader to help them correct their guess, based on the scenario (including the true mental state) and the conversation history, enabling them to guide the conversation more effectively.\n",
    "\n",
    "Steps to Follow:\n",
    "Step 1: Check if the persuader's predicted belief and desire align with the persuadee’s true mental state.\n",
    "Step 2: Check for any unnecessary details in the predicted belief and desire. Both belief and desire should only have ONE point.\n",
    "Step 3: If there are discrepancies or unnecessary elements, provide SPECIFIC suggestions to the persuader to refine their prediction. \n",
    "\n",
    "Hint:\n",
    "If you think the persuader’s guess does not align with the true mental state, please provide suggestions to help them better understand the persuadee’s desires.\n",
    "If you think the persuader’s guess is already accurate and aligns with the true mental state, please suggest that no changes are necessary."
   ]
  },
  {
   "cell_type": "code",
   "execution_count": null,
   "id": "a5acec64",
   "metadata": {},
   "outputs": [],
   "source": []
  },
  {
   "cell_type": "code",
   "execution_count": null,
   "id": "a6b00f17",
   "metadata": {},
   "outputs": [],
   "source": []
  }
 ],
 "metadata": {
  "kernelspec": {
   "display_name": "Python 3 (ipykernel)",
   "language": "python",
   "name": "python3"
  },
  "language_info": {
   "codemirror_mode": {
    "name": "ipython",
    "version": 3
   },
   "file_extension": ".py",
   "mimetype": "text/x-python",
   "name": "python",
   "nbconvert_exporter": "python",
   "pygments_lexer": "ipython3",
   "version": "3.11.4"
  }
 },
 "nbformat": 4,
 "nbformat_minor": 5
}
